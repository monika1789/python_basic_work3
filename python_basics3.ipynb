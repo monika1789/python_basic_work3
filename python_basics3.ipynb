{
 "cells": [
  {
   "cell_type": "code",
   "execution_count": 4,
   "id": "9213a13b",
   "metadata": {},
   "outputs": [
    {
     "name": "stdout",
     "output_type": "stream",
     "text": [
      "Enter'q' to quit\n",
      "Enter your name Monika\n",
      "Enter your address Patel\n",
      "Address for Monika is Patel\n",
      "Enter'q' to quit\n",
      "Enter your name quit\n",
      "Enter your address q\n"
     ]
    }
   ],
   "source": [
    "def user_info():\n",
    "    person = {}\n",
    "      \n",
    "    while True:\n",
    "        print(\"Enter'q' to quit\")\n",
    "        name = input(\"Enter your name \")\n",
    "        address = input(\"Enter your address \")\n",
    "        \n",
    "        if  name.lower() == 'q' or  address.lower() == 'q':\n",
    "            break\n",
    "        person[name] = address\n",
    "        \n",
    "        for key,value in person.items():\n",
    "            print(f\"Address for {key} is {value}\")   \n",
    "\n",
    "user_info()\n",
    "            "
   ]
  },
  {
   "cell_type": "code",
   "execution_count": 5,
   "id": "138eed67",
   "metadata": {},
   "outputs": [
    {
     "name": "stdout",
     "output_type": "stream",
     "text": [
      "Enter Your shopping list or type 'n' for next step banana\n",
      "Enter Your shopping list or type 'n' for next step apple\n",
      "Enter Your shopping list or type 'n' for next step strawberry\n",
      "Enter Your shopping list or type 'n' for next step n\n",
      "Enter your next step add/show/delete/quit add\n",
      "what you want to add watermelon\n",
      "you have following items in your new list ['banana', 'apple', 'strawberry', 'watermelon'] \n",
      "Enter your next step add/show/delete/quit show\n",
      "you have following items in the list ['banana', 'apple', 'strawberry', 'watermelon'] \n",
      "Enter your next step add/show/delete/quit delete\n",
      "Enter item you want to delete strawberry\n",
      "you have following items in your new list ['banana', 'apple', 'watermelon'] \n",
      "Enter your next step add/show/delete/quit quit\n",
      "Thanks for Shopping\n"
     ]
    }
   ],
   "source": [
    "# Ask the user four bits of input: Do you want to : Show/Add/Delete or Quit?\n",
    "#  shopping cart assignment\n",
    "\n",
    "def cart():\n",
    "    list=[]\n",
    "    \"\"\"shopping cart with input shopping list and have options of add/show/delete/quit\n",
    "    \"\"\"\n",
    "    while True:\n",
    "        list_item = input (\"Enter Your shopping list or type 'n' for next step \")\n",
    "        if list_item == 'n':\n",
    "            break\n",
    "        else: \n",
    "            list.append(list_item)\n",
    "            \n",
    "       \n",
    "    while True:    \n",
    "        next=input(\"Enter your next step add/show/delete/quit \")  \n",
    "        if next.lower() == 'quit':\n",
    "            print(\"Thanks for Shopping\")\n",
    "            break\n",
    "        elif next.lower() ==\"add\":\n",
    "            adding = input(\"what you want to add \")\n",
    "            list.append(adding)\n",
    "            print(f\"you have following items in your new list {list} \")\n",
    "        elif next.lower() == \"delete\":\n",
    "            del_item = input(\"Enter item you want to delete \")    \n",
    "            for i in list:\n",
    "                if i == del_item:\n",
    "                   list.remove(i) \n",
    "            print(f\"you have following items in your new list {list} \")\n",
    "        elif next.lower()==\"show\":\n",
    "            print(f\"you have following items in the list {list} \")\n",
    "\n",
    "cart()        "
   ]
  },
  {
   "cell_type": "code",
   "execution_count": 1,
   "id": "5af52ab6",
   "metadata": {},
   "outputs": [
    {
     "name": "stdout",
     "output_type": "stream",
     "text": [
      "Enter the width of your house 300\n",
      "Enter the length of your house 600\n",
      "The square footage of your house is 180000\n"
     ]
    }
   ],
   "source": [
    "from modhw1 import sq_house"
   ]
  },
  {
   "cell_type": "code",
   "execution_count": 2,
   "id": "21a4e87b",
   "metadata": {},
   "outputs": [
    {
     "name": "stdout",
     "output_type": "stream",
     "text": [
      "Enter the radius of the circle 6\n",
      "37.69911184307752\n"
     ]
    }
   ],
   "source": [
    "from modhw2 import circum"
   ]
  },
  {
   "cell_type": "code",
   "execution_count": null,
   "id": "6f05d698",
   "metadata": {},
   "outputs": [],
   "source": []
  }
 ],
 "metadata": {
  "kernelspec": {
   "display_name": "Python 3 (ipykernel)",
   "language": "python",
   "name": "python3"
  },
  "language_info": {
   "codemirror_mode": {
    "name": "ipython",
    "version": 3
   },
   "file_extension": ".py",
   "mimetype": "text/x-python",
   "name": "python",
   "nbconvert_exporter": "python",
   "pygments_lexer": "ipython3",
   "version": "3.9.7"
  }
 },
 "nbformat": 4,
 "nbformat_minor": 5
}
